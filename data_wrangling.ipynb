{
 "cells": [
  {
   "cell_type": "code",
   "execution_count": 164,
   "metadata": {},
   "outputs": [],
   "source": [
    "import pandas as pd\n",
    "import numpy as np"
   ]
  },
  {
   "cell_type": "code",
   "execution_count": 165,
   "metadata": {},
   "outputs": [],
   "source": [
    "data_path = \"data/spotify_dataset_kaggle.csv\"\n",
    "df = pd.read_csv(data_path)"
   ]
  },
  {
   "cell_type": "code",
   "execution_count": 166,
   "metadata": {},
   "outputs": [],
   "source": [
    "df = df.drop(columns=[\"id\",\"popularity\",\"release_date\"])"
   ]
  },
  {
   "cell_type": "code",
   "execution_count": 151,
   "metadata": {},
   "outputs": [],
   "source": [
    "df = df.sample(100)\n",
    "df = df.reset_index()\n",
    "df = df.drop(columns=[\"index\"])"
   ]
  },
  {
   "cell_type": "code",
   "execution_count": 167,
   "metadata": {},
   "outputs": [
    {
     "data": {
      "text/plain": [
       "'name'"
      ]
     },
     "execution_count": 167,
     "metadata": {},
     "output_type": "execute_result"
    }
   ],
   "source": [
    "columns = list(df.columns)\n",
    "columns.pop(3)\n",
    "columns.pop(-3)"
   ]
  },
  {
   "cell_type": "code",
   "execution_count": 168,
   "metadata": {},
   "outputs": [],
   "source": [
    "for column in columns:\n",
    "    df[column] = df[column] - df[column].min()\n",
    "    df[column] = df[column]/df[column].max()"
   ]
  },
  {
   "cell_type": "code",
   "execution_count": 169,
   "metadata": {},
   "outputs": [],
   "source": [
    "# Collects all unique genres from all titles\n",
    "artists_list = []\n",
    "for row in df[\"artists\"]:\n",
    "    artists_list.append(eval(row))\n"
   ]
  },
  {
   "cell_type": "code",
   "execution_count": null,
   "metadata": {},
   "outputs": [],
   "source": [
    "artists_list = [item for sublist in artists_list for item in sublist]\n",
    "artists_list = list(set(artists_list))\n",
    "len(artists_list)"
   ]
  },
  {
   "cell_type": "code",
   "execution_count": null,
   "metadata": {},
   "outputs": [],
   "source": [
    "\n",
    "#artists_list_column_names = [\"Genre: \" + artist for artist in artists_list]\n",
    "# Creates a matrix of game genres such that every artist has got their own column and games containing the artist have the value 1. 0 otherwise. \n",
    "artists_matrix = []\n",
    "num = 0\n",
    "for artist in artists_list:\n",
    "    print(num)\n",
    "    num += 1\n",
    "    artists_matrix_row = []\n",
    "    for row in df[\"artists\"]:\n",
    "        if artist in row:\n",
    "            artists_matrix_row.append(1)\n",
    "        else:\n",
    "            artists_matrix_row.append(0)\n",
    "    artists_matrix.append(artists_matrix_row)\n",
    "artists_matrix = list(map(list, zip(*artists_matrix)))\n",
    "# Create a seperate dataframe with this information and then add it to the base dataframe. Finally remove the old artist column.\n",
    "adf = pd.DataFrame(artists_matrix, columns=artists_list)\n",
    "df = pd.concat([df, adf], axis=1)\n",
    "df = df.drop([\"artists\"], axis=1)"
   ]
  },
  {
   "cell_type": "code",
   "execution_count": 171,
   "metadata": {},
   "outputs": [],
   "source": [
    "df = df.drop(columns=[\"artists\"])"
   ]
  },
  {
   "cell_type": "code",
   "execution_count": 173,
   "metadata": {},
   "outputs": [],
   "source": [
    "df = df.set_index(\"name\")"
   ]
  },
  {
   "cell_type": "code",
   "execution_count": 174,
   "metadata": {},
   "outputs": [],
   "source": [
    "data_path = \"data/spotify_numerical.csv\"\n",
    "df.to_csv(data_path)"
   ]
  },
  {
   "cell_type": "code",
   "execution_count": 175,
   "metadata": {},
   "outputs": [
    {
     "data": {
      "text/html": [
       "<div>\n",
       "<style scoped>\n",
       "    .dataframe tbody tr th:only-of-type {\n",
       "        vertical-align: middle;\n",
       "    }\n",
       "\n",
       "    .dataframe tbody tr th {\n",
       "        vertical-align: top;\n",
       "    }\n",
       "\n",
       "    .dataframe thead th {\n",
       "        text-align: right;\n",
       "    }\n",
       "</style>\n",
       "<table border=\"1\" class=\"dataframe\">\n",
       "  <thead>\n",
       "    <tr style=\"text-align: right;\">\n",
       "      <th></th>\n",
       "      <th>valence</th>\n",
       "      <th>year</th>\n",
       "      <th>acousticness</th>\n",
       "      <th>danceability</th>\n",
       "      <th>duration_ms</th>\n",
       "      <th>energy</th>\n",
       "      <th>explicit</th>\n",
       "      <th>instrumentalness</th>\n",
       "      <th>key</th>\n",
       "      <th>liveness</th>\n",
       "      <th>loudness</th>\n",
       "      <th>mode</th>\n",
       "      <th>speechiness</th>\n",
       "      <th>tempo</th>\n",
       "    </tr>\n",
       "    <tr>\n",
       "      <th>name</th>\n",
       "      <th></th>\n",
       "      <th></th>\n",
       "      <th></th>\n",
       "      <th></th>\n",
       "      <th></th>\n",
       "      <th></th>\n",
       "      <th></th>\n",
       "      <th></th>\n",
       "      <th></th>\n",
       "      <th></th>\n",
       "      <th></th>\n",
       "      <th></th>\n",
       "      <th></th>\n",
       "      <th></th>\n",
       "    </tr>\n",
       "  </thead>\n",
       "  <tbody>\n",
       "    <tr>\n",
       "      <th>Relâche: Part II</th>\n",
       "      <td>0.0960</td>\n",
       "      <td>0.282828</td>\n",
       "      <td>0.955823</td>\n",
       "      <td>0.197368</td>\n",
       "      <td>0.148214</td>\n",
       "      <td>0.0831</td>\n",
       "      <td>0.0</td>\n",
       "      <td>0.847</td>\n",
       "      <td>0.181818</td>\n",
       "      <td>0.0887</td>\n",
       "      <td>0.603524</td>\n",
       "      <td>1.0</td>\n",
       "      <td>0.042474</td>\n",
       "      <td>0.319876</td>\n",
       "    </tr>\n",
       "    <tr>\n",
       "      <th>Piano Trio in B-Flat Major, Op. 97: III. Andante cantabile ma pero con moto</th>\n",
       "      <td>0.1100</td>\n",
       "      <td>0.202020</td>\n",
       "      <td>0.995984</td>\n",
       "      <td>0.224696</td>\n",
       "      <td>0.113893</td>\n",
       "      <td>0.0394</td>\n",
       "      <td>0.0</td>\n",
       "      <td>0.825</td>\n",
       "      <td>0.181818</td>\n",
       "      <td>0.0738</td>\n",
       "      <td>0.549291</td>\n",
       "      <td>1.0</td>\n",
       "      <td>0.046804</td>\n",
       "      <td>0.314012</td>\n",
       "    </tr>\n",
       "    <tr>\n",
       "      <th>Sonatine, M. 40: I. Modéré</th>\n",
       "      <td>0.0838</td>\n",
       "      <td>0.191919</td>\n",
       "      <td>0.996988</td>\n",
       "      <td>0.313765</td>\n",
       "      <td>0.030656</td>\n",
       "      <td>0.0190</td>\n",
       "      <td>0.0</td>\n",
       "      <td>0.805</td>\n",
       "      <td>0.181818</td>\n",
       "      <td>0.0977</td>\n",
       "      <td>0.499616</td>\n",
       "      <td>1.0</td>\n",
       "      <td>0.037629</td>\n",
       "      <td>0.315190</td>\n",
       "    </tr>\n",
       "    <tr>\n",
       "      <th>Hungarian Rhapsodies, S. 244: No. 11 in A Minor</th>\n",
       "      <td>0.0530</td>\n",
       "      <td>0.202020</td>\n",
       "      <td>0.994980</td>\n",
       "      <td>0.291498</td>\n",
       "      <td>0.072841</td>\n",
       "      <td>0.1020</td>\n",
       "      <td>0.0</td>\n",
       "      <td>0.905</td>\n",
       "      <td>0.181818</td>\n",
       "      <td>0.0903</td>\n",
       "      <td>0.584433</td>\n",
       "      <td>1.0</td>\n",
       "      <td>0.048866</td>\n",
       "      <td>0.286234</td>\n",
       "    </tr>\n",
       "    <tr>\n",
       "      <th>Nocturnes, Op. 55: No. 2 in E-Flat Major</th>\n",
       "      <td>0.1120</td>\n",
       "      <td>0.252525</td>\n",
       "      <td>0.992972</td>\n",
       "      <td>0.248988</td>\n",
       "      <td>0.053132</td>\n",
       "      <td>0.1090</td>\n",
       "      <td>0.0</td>\n",
       "      <td>0.791</td>\n",
       "      <td>0.272727</td>\n",
       "      <td>0.0689</td>\n",
       "      <td>0.578420</td>\n",
       "      <td>1.0</td>\n",
       "      <td>0.044227</td>\n",
       "      <td>0.324344</td>\n",
       "    </tr>\n",
       "  </tbody>\n",
       "</table>\n",
       "</div>"
      ],
      "text/plain": [
       "                                                    valence      year  \\\n",
       "name                                                                    \n",
       "Relâche: Part II                                     0.0960  0.282828   \n",
       "Piano Trio in B-Flat Major, Op. 97: III. Andant...   0.1100  0.202020   \n",
       "Sonatine, M. 40: I. Modéré                           0.0838  0.191919   \n",
       "Hungarian Rhapsodies, S. 244: No. 11 in A Minor      0.0530  0.202020   \n",
       "Nocturnes, Op. 55: No. 2 in E-Flat Major             0.1120  0.252525   \n",
       "\n",
       "                                                    acousticness  \\\n",
       "name                                                               \n",
       "Relâche: Part II                                        0.955823   \n",
       "Piano Trio in B-Flat Major, Op. 97: III. Andant...      0.995984   \n",
       "Sonatine, M. 40: I. Modéré                              0.996988   \n",
       "Hungarian Rhapsodies, S. 244: No. 11 in A Minor         0.994980   \n",
       "Nocturnes, Op. 55: No. 2 in E-Flat Major                0.992972   \n",
       "\n",
       "                                                    danceability  duration_ms  \\\n",
       "name                                                                            \n",
       "Relâche: Part II                                        0.197368     0.148214   \n",
       "Piano Trio in B-Flat Major, Op. 97: III. Andant...      0.224696     0.113893   \n",
       "Sonatine, M. 40: I. Modéré                              0.313765     0.030656   \n",
       "Hungarian Rhapsodies, S. 244: No. 11 in A Minor         0.291498     0.072841   \n",
       "Nocturnes, Op. 55: No. 2 in E-Flat Major                0.248988     0.053132   \n",
       "\n",
       "                                                    energy  explicit  \\\n",
       "name                                                                   \n",
       "Relâche: Part II                                    0.0831       0.0   \n",
       "Piano Trio in B-Flat Major, Op. 97: III. Andant...  0.0394       0.0   \n",
       "Sonatine, M. 40: I. Modéré                          0.0190       0.0   \n",
       "Hungarian Rhapsodies, S. 244: No. 11 in A Minor     0.1020       0.0   \n",
       "Nocturnes, Op. 55: No. 2 in E-Flat Major            0.1090       0.0   \n",
       "\n",
       "                                                    instrumentalness  \\\n",
       "name                                                                   \n",
       "Relâche: Part II                                               0.847   \n",
       "Piano Trio in B-Flat Major, Op. 97: III. Andant...             0.825   \n",
       "Sonatine, M. 40: I. Modéré                                     0.805   \n",
       "Hungarian Rhapsodies, S. 244: No. 11 in A Minor                0.905   \n",
       "Nocturnes, Op. 55: No. 2 in E-Flat Major                       0.791   \n",
       "\n",
       "                                                         key  liveness  \\\n",
       "name                                                                     \n",
       "Relâche: Part II                                    0.181818    0.0887   \n",
       "Piano Trio in B-Flat Major, Op. 97: III. Andant...  0.181818    0.0738   \n",
       "Sonatine, M. 40: I. Modéré                          0.181818    0.0977   \n",
       "Hungarian Rhapsodies, S. 244: No. 11 in A Minor     0.181818    0.0903   \n",
       "Nocturnes, Op. 55: No. 2 in E-Flat Major            0.272727    0.0689   \n",
       "\n",
       "                                                    loudness  mode  \\\n",
       "name                                                                 \n",
       "Relâche: Part II                                    0.603524   1.0   \n",
       "Piano Trio in B-Flat Major, Op. 97: III. Andant...  0.549291   1.0   \n",
       "Sonatine, M. 40: I. Modéré                          0.499616   1.0   \n",
       "Hungarian Rhapsodies, S. 244: No. 11 in A Minor     0.584433   1.0   \n",
       "Nocturnes, Op. 55: No. 2 in E-Flat Major            0.578420   1.0   \n",
       "\n",
       "                                                    speechiness     tempo  \n",
       "name                                                                       \n",
       "Relâche: Part II                                       0.042474  0.319876  \n",
       "Piano Trio in B-Flat Major, Op. 97: III. Andant...     0.046804  0.314012  \n",
       "Sonatine, M. 40: I. Modéré                             0.037629  0.315190  \n",
       "Hungarian Rhapsodies, S. 244: No. 11 in A Minor        0.048866  0.286234  \n",
       "Nocturnes, Op. 55: No. 2 in E-Flat Major               0.044227  0.324344  "
      ]
     },
     "execution_count": 175,
     "metadata": {},
     "output_type": "execute_result"
    }
   ],
   "source": [
    "song = df.loc[\"Piano Trio in B-Flat Major, Op. 97: III. Andante cantabile ma pero con moto\"]\n",
    "distances = np.linalg.norm(df-song, axis=1)\n",
    "recommendations = 5\n",
    "indexes = np.argpartition(distances, recommendations)\n",
    "\n",
    "df.iloc[indexes[:recommendations]]"
   ]
  }
 ],
 "metadata": {
  "kernelspec": {
   "display_name": "venv",
   "language": "python",
   "name": "python3"
  },
  "language_info": {
   "codemirror_mode": {
    "name": "ipython",
    "version": 3
   },
   "file_extension": ".py",
   "mimetype": "text/x-python",
   "name": "python",
   "nbconvert_exporter": "python",
   "pygments_lexer": "ipython3",
   "version": "3.12.3"
  }
 },
 "nbformat": 4,
 "nbformat_minor": 2
}
