{
 "cells": [
  {
   "cell_type": "code",
   "execution_count": 1,
   "metadata": {},
   "outputs": [],
   "source": [
    "import pandas as pd\n",
    "import numpy as np"
   ]
  },
  {
   "cell_type": "code",
   "execution_count": 2,
   "metadata": {},
   "outputs": [],
   "source": [
    "data_path = \"data/spotify_dataset_kaggle.csv\"\n",
    "df = pd.read_csv(data_path)"
   ]
  },
  {
   "cell_type": "code",
   "execution_count": 3,
   "metadata": {},
   "outputs": [],
   "source": [
    "df = df.drop(columns=[\"id\",\"popularity\",\"release_date\"])"
   ]
  },
  {
   "cell_type": "code",
   "execution_count": 4,
   "metadata": {},
   "outputs": [],
   "source": [
    "df = df.set_index(\"name\")"
   ]
  },
  {
   "cell_type": "code",
   "execution_count": null,
   "metadata": {},
   "outputs": [],
   "source": [
    "columns = list(df.columns)\n",
    "columns.pop(3)"
   ]
  },
  {
   "cell_type": "code",
   "execution_count": 15,
   "metadata": {},
   "outputs": [],
   "source": [
    "for column in columns:\n",
    "    df[column] = df[column] - df[column].min()\n",
    "    df[column] = df[column]/df[column].max()"
   ]
  },
  {
   "cell_type": "code",
   "execution_count": 17,
   "metadata": {},
   "outputs": [],
   "source": [
    "# Collects all unique genres from all titles\n",
    "artists_list = []\n",
    "for row in df[\"artists\"]:\n",
    "    artists_list.append(eval(row))\n"
   ]
  },
  {
   "cell_type": "code",
   "execution_count": 18,
   "metadata": {},
   "outputs": [],
   "source": [
    "artists_list = [item for sublist in artists_list for item in sublist]"
   ]
  },
  {
   "cell_type": "code",
   "execution_count": 19,
   "metadata": {},
   "outputs": [],
   "source": [
    "artists_list = list(set(artists_list))"
   ]
  },
  {
   "cell_type": "code",
   "execution_count": null,
   "metadata": {},
   "outputs": [],
   "source": [
    "len(artists_list)"
   ]
  },
  {
   "cell_type": "code",
   "execution_count": null,
   "metadata": {},
   "outputs": [],
   "source": [
    "\n",
    "#artists_list_column_names = [\"Genre: \" + artist for artist in artists_list]\n",
    "# Creates a matrix of game genres such that every artist has got their own column and games containing the artist have the value 1. 0 otherwise. \n",
    "artists_matrix = []\n",
    "num = 0\n",
    "for artist in artists_list:\n",
    "    print(num)\n",
    "    num += 1\n",
    "    artists_matrix_row = []\n",
    "    for row in df[\"artists\"]:\n",
    "        if artist in row:\n",
    "            artists_matrix_row.append(1)\n",
    "        else:\n",
    "            artists_matrix_row.append(0)\n",
    "    artists_matrix.append(artists_matrix_row)\n",
    "artists_matrix = list(map(list, zip(*artists_matrix)))\n",
    "# Create a seperate dataframe with this information and then add it to the base dataframe. Finally remove the old artist column.\n",
    "adf = pd.DataFrame(artists_matrix, columns=artists_list)\n",
    "df = pd.concat([df, adf], axis=1)\n",
    "df = df.drop([\"artists\"], axis=1)"
   ]
  },
  {
   "cell_type": "code",
   "execution_count": null,
   "metadata": {},
   "outputs": [],
   "source": [
    "song = df.loc[\"Piano Trio in B-Flat Major, Op. 97: III. Andante cantabile ma pero con moto\"]\n",
    "distances = np.linalg.norm(df-song, axis=1)\n",
    "recommendations = 5\n",
    "indexes = np.argpartition(distances, recommendations)\n",
    "\n",
    "df.iloc[indexes[:recommendations]]"
   ]
  }
 ],
 "metadata": {
  "kernelspec": {
   "display_name": "venv",
   "language": "python",
   "name": "python3"
  },
  "language_info": {
   "codemirror_mode": {
    "name": "ipython",
    "version": 3
   },
   "file_extension": ".py",
   "mimetype": "text/x-python",
   "name": "python",
   "nbconvert_exporter": "python",
   "pygments_lexer": "ipython3",
   "version": "3.12.3"
  }
 },
 "nbformat": 4,
 "nbformat_minor": 2
}
